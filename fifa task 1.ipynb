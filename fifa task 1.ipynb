{
 "cells": [
  {
   "cell_type": "markdown",
   "id": "d21f97f1",
   "metadata": {},
   "source": [
    "#  Import Libraries and Load Data "
   ]
  },
  {
   "cell_type": "code",
   "execution_count": 9,
   "id": "5c364e54",
   "metadata": {},
   "outputs": [],
   "source": [
    "#LOAD DATASETS\n",
    "import pandas as pd\n",
    "import matplotlib.pyplot as plt\n",
    "import seaborn as sns\n",
    "\n",
    "matches_df = pd.read_csv('C:/Users/DELL/OneDrive/Documents/Intern/WorldCupMatches.csv')\n",
    "players_df = pd.read_csv('C:/Users/DELL/OneDrive/Documents/Intern/WorldCupPlayers.csv')\n",
    "cups_df  = pd.read_csv('C:/Users/DELL/OneDrive/Documents/Intern/WorldCups.csv')\n",
    "\n"
   ]
  },
  {
   "cell_type": "markdown",
   "id": "762bc483",
   "metadata": {},
   "source": [
    "#  Understand the Data\n",
    "#Exploring each DataFrame to understand its structure and contents."
   ]
  },
  {
   "cell_type": "code",
   "execution_count": 8,
   "id": "6a5bf731",
   "metadata": {},
   "outputs": [
    {
     "name": "stdout",
     "output_type": "stream",
     "text": [
      "Matches DataFrame:\n",
      "     Year              Datetime    Stage         Stadium         City  \\\n",
      "0  1930.0  13 Jul 1930 - 15:00   Group 1         Pocitos  Montevideo    \n",
      "1  1930.0  13 Jul 1930 - 15:00   Group 4  Parque Central  Montevideo    \n",
      "2  1930.0  14 Jul 1930 - 12:45   Group 2  Parque Central  Montevideo    \n",
      "3  1930.0  14 Jul 1930 - 14:50   Group 3         Pocitos  Montevideo    \n",
      "4  1930.0  15 Jul 1930 - 16:00   Group 1  Parque Central  Montevideo    \n",
      "\n",
      "  Home Team Name  Home Team Goals  Away Team Goals Away Team Name  \\\n",
      "0         France              4.0              1.0         Mexico   \n",
      "1            USA              3.0              0.0        Belgium   \n",
      "2     Yugoslavia              2.0              1.0         Brazil   \n",
      "3        Romania              3.0              1.0           Peru   \n",
      "4      Argentina              1.0              0.0         France   \n",
      "\n",
      "  Win conditions  Attendance  Half-time Home Goals  Half-time Away Goals  \\\n",
      "0                     4444.0                   3.0                   0.0   \n",
      "1                    18346.0                   2.0                   0.0   \n",
      "2                    24059.0                   2.0                   0.0   \n",
      "3                     2549.0                   1.0                   0.0   \n",
      "4                    23409.0                   0.0                   0.0   \n",
      "\n",
      "                  Referee               Assistant 1  \\\n",
      "0  LOMBARDI Domingo (URU)     CRISTOPHE Henry (BEL)   \n",
      "1       MACIAS Jose (ARG)  MATEUCCI Francisco (URU)   \n",
      "2     TEJADA Anibal (URU)   VALLARINO Ricardo (URU)   \n",
      "3   WARNKEN Alberto (CHI)       LANGENUS Jean (BEL)   \n",
      "4     REGO Gilberto (BRA)      SAUCEDO Ulises (BOL)   \n",
      "\n",
      "                  Assistant 2  RoundID  MatchID Home Team Initials  \\\n",
      "0         REGO Gilberto (BRA)    201.0   1096.0                FRA   \n",
      "1       WARNKEN Alberto (CHI)    201.0   1090.0                USA   \n",
      "2         BALWAY Thomas (FRA)    201.0   1093.0                YUG   \n",
      "3    MATEUCCI Francisco (URU)    201.0   1098.0                ROU   \n",
      "4  RADULESCU Constantin (ROU)    201.0   1085.0                ARG   \n",
      "\n",
      "  Away Team Initials  \n",
      "0                MEX  \n",
      "1                BEL  \n",
      "2                BRA  \n",
      "3                PER  \n",
      "4                FRA  \n",
      "\n",
      "Players DataFrame:\n",
      "   RoundID  MatchID Team Initials           Coach Name Line-up  Shirt Number  \\\n",
      "0      201     1096           FRA  CAUDRON Raoul (FRA)       S             0   \n",
      "1      201     1096           MEX     LUQUE Juan (MEX)       S             0   \n",
      "2      201     1096           FRA  CAUDRON Raoul (FRA)       S             0   \n",
      "3      201     1096           MEX     LUQUE Juan (MEX)       S             0   \n",
      "4      201     1096           FRA  CAUDRON Raoul (FRA)       S             0   \n",
      "\n",
      "        Player Name Position Event  \n",
      "0       Alex THEPOT       GK   NaN  \n",
      "1   Oscar BONFIGLIO       GK   NaN  \n",
      "2  Marcel LANGILLER      NaN  G40'  \n",
      "3      Juan CARRENO      NaN  G70'  \n",
      "4   Ernest LIBERATI      NaN   NaN  \n",
      "\n",
      "Cups DataFrame:\n",
      "   Year      Country      Winner      Runners-Up    Third      Fourth  \\\n",
      "0  1930      Uruguay     Uruguay       Argentina      USA  Yugoslavia   \n",
      "1  1934        Italy       Italy  Czechoslovakia  Germany     Austria   \n",
      "2  1938       France       Italy         Hungary   Brazil      Sweden   \n",
      "3  1950       Brazil     Uruguay          Brazil   Sweden       Spain   \n",
      "4  1954  Switzerland  Germany FR         Hungary  Austria     Uruguay   \n",
      "\n",
      "   GoalsScored  QualifiedTeams  MatchesPlayed Attendance  \n",
      "0           70              13             18    590.549  \n",
      "1           70              16             17    363.000  \n",
      "2           84              15             18    375.700  \n",
      "3           88              13             22  1.045.246  \n",
      "4          140              16             26    768.607  \n",
      "\n",
      "Matches DataFrame Info:\n",
      "<class 'pandas.core.frame.DataFrame'>\n",
      "RangeIndex: 4572 entries, 0 to 4571\n",
      "Data columns (total 20 columns):\n",
      " #   Column                Non-Null Count  Dtype  \n",
      "---  ------                --------------  -----  \n",
      " 0   Year                  852 non-null    float64\n",
      " 1   Datetime              852 non-null    object \n",
      " 2   Stage                 852 non-null    object \n",
      " 3   Stadium               852 non-null    object \n",
      " 4   City                  852 non-null    object \n",
      " 5   Home Team Name        852 non-null    object \n",
      " 6   Home Team Goals       852 non-null    float64\n",
      " 7   Away Team Goals       852 non-null    float64\n",
      " 8   Away Team Name        852 non-null    object \n",
      " 9   Win conditions        852 non-null    object \n",
      " 10  Attendance            850 non-null    float64\n",
      " 11  Half-time Home Goals  852 non-null    float64\n",
      " 12  Half-time Away Goals  852 non-null    float64\n",
      " 13  Referee               852 non-null    object \n",
      " 14  Assistant 1           852 non-null    object \n",
      " 15  Assistant 2           852 non-null    object \n",
      " 16  RoundID               852 non-null    float64\n",
      " 17  MatchID               852 non-null    float64\n",
      " 18  Home Team Initials    852 non-null    object \n",
      " 19  Away Team Initials    852 non-null    object \n",
      "dtypes: float64(8), object(12)\n",
      "memory usage: 714.5+ KB\n",
      "None\n",
      "\n",
      "Players DataFrame Info:\n",
      "<class 'pandas.core.frame.DataFrame'>\n",
      "RangeIndex: 37784 entries, 0 to 37783\n",
      "Data columns (total 9 columns):\n",
      " #   Column         Non-Null Count  Dtype \n",
      "---  ------         --------------  ----- \n",
      " 0   RoundID        37784 non-null  int64 \n",
      " 1   MatchID        37784 non-null  int64 \n",
      " 2   Team Initials  37784 non-null  object\n",
      " 3   Coach Name     37784 non-null  object\n",
      " 4   Line-up        37784 non-null  object\n",
      " 5   Shirt Number   37784 non-null  int64 \n",
      " 6   Player Name    37784 non-null  object\n",
      " 7   Position       4143 non-null   object\n",
      " 8   Event          9069 non-null   object\n",
      "dtypes: int64(3), object(6)\n",
      "memory usage: 2.6+ MB\n",
      "None\n",
      "\n",
      "Cups DataFrame Info:\n",
      "<class 'pandas.core.frame.DataFrame'>\n",
      "RangeIndex: 20 entries, 0 to 19\n",
      "Data columns (total 10 columns):\n",
      " #   Column          Non-Null Count  Dtype \n",
      "---  ------          --------------  ----- \n",
      " 0   Year            20 non-null     int64 \n",
      " 1   Country         20 non-null     object\n",
      " 2   Winner          20 non-null     object\n",
      " 3   Runners-Up      20 non-null     object\n",
      " 4   Third           20 non-null     object\n",
      " 5   Fourth          20 non-null     object\n",
      " 6   GoalsScored     20 non-null     int64 \n",
      " 7   QualifiedTeams  20 non-null     int64 \n",
      " 8   MatchesPlayed   20 non-null     int64 \n",
      " 9   Attendance      20 non-null     object\n",
      "dtypes: int64(4), object(6)\n",
      "memory usage: 1.7+ KB\n",
      "None\n"
     ]
    }
   ],
   "source": [
    "# Displaying the first few rows of each DataFrame\n",
    "print(\"Matches DataFrame:\")\n",
    "print(matches_df.head())\n",
    "\n",
    "print(\"\\nPlayers DataFrame:\")\n",
    "print(players_df.head())\n",
    "\n",
    "print(\"\\nCups DataFrame:\")\n",
    "print(cups_df.head())\n",
    "\n",
    "# Check the columns and data types\n",
    "print(\"\\nMatches DataFrame Info:\")\n",
    "print(matches_df.info())\n",
    "\n",
    "print(\"\\nPlayers DataFrame Info:\")\n",
    "print(players_df.info())\n",
    "\n",
    "print(\"\\nCups DataFrame Info:\")\n",
    "print(cups_df.info())"
   ]
  },
  {
   "cell_type": "markdown",
   "id": "f0e8629f",
   "metadata": {},
   "source": [
    "#  Clean and Prepare Data\n",
    "#Checking for missing values, data types, and any inconsistencies."
   ]
  },
  {
   "cell_type": "code",
   "execution_count": 13,
   "id": "3f8e5335",
   "metadata": {},
   "outputs": [
    {
     "name": "stdout",
     "output_type": "stream",
     "text": [
      "Year                    3720\n",
      "Datetime                3720\n",
      "Stage                   3720\n",
      "Stadium                 3720\n",
      "City                    3720\n",
      "Home Team Name          3720\n",
      "Home Team Goals         3720\n",
      "Away Team Goals         3720\n",
      "Away Team Name          3720\n",
      "Win conditions          3720\n",
      "Attendance              3722\n",
      "Half-time Home Goals    3720\n",
      "Half-time Away Goals    3720\n",
      "Referee                 3720\n",
      "Assistant 1             3720\n",
      "Assistant 2             3720\n",
      "RoundID                 3720\n",
      "MatchID                 3720\n",
      "Home Team Initials      3720\n",
      "Away Team Initials      3720\n",
      "dtype: int64\n",
      "RoundID              0\n",
      "MatchID              0\n",
      "Team Initials        0\n",
      "Coach Name           0\n",
      "Line-up              0\n",
      "Shirt Number         0\n",
      "Player Name          0\n",
      "Position         33641\n",
      "Event            28715\n",
      "dtype: int64\n",
      "Year              0\n",
      "Country           0\n",
      "Winner            0\n",
      "Runners-Up        0\n",
      "Third             0\n",
      "Fourth            0\n",
      "GoalsScored       0\n",
      "QualifiedTeams    0\n",
      "MatchesPlayed     0\n",
      "Attendance        0\n",
      "dtype: int64\n"
     ]
    }
   ],
   "source": [
    "# Check for missing values\n",
    "print(matches_df.isnull().sum())\n",
    "print(players_df.isnull().sum())\n",
    "print(cups_df.isnull().sum())\n",
    "\n",
    "# Example of converting data types if necessary\n",
    "matches_df['Year'] = pd.to_datetime(matches_df['Year'])\n"
   ]
  },
  {
   "cell_type": "markdown",
   "id": "f1b06fd4",
   "metadata": {},
   "source": [
    "#  Merging data"
   ]
  },
  {
   "cell_type": "code",
   "execution_count": 87,
   "id": "c394fc72",
   "metadata": {
    "scrolled": false
   },
   "outputs": [
    {
     "name": "stdout",
     "output_type": "stream",
     "text": [
      "Matches DataFrame columns: Index(['Year', 'Datetime', 'Stage', 'Stadium', 'City', 'Home Team Name',\n",
      "       'Home Team Goals', 'Away Team Goals', 'Away Team Name',\n",
      "       'Win conditions', 'Attendance', 'Half-time Home Goals',\n",
      "       'Half-time Away Goals', 'Referee', 'Assistant 1', 'Assistant 2',\n",
      "       'RoundID', 'MatchID', 'Home Team Initials', 'Away Team Initials',\n",
      "       'Goal Difference', 'Winning Team', 'Home Win', 'Away Win', 'Draw'],\n",
      "      dtype='object')\n",
      "Cups DataFrame columns: Index(['Year', 'Country', 'Winner', 'Runners-Up', 'Third', 'Fourth',\n",
      "       'GoalsScored', 'QualifiedTeams', 'MatchesPlayed', 'Attendance'],\n",
      "      dtype='object')\n",
      "Matches DataFrame columns and types:\n",
      "Year                             int32\n",
      "Datetime                datetime64[ns]\n",
      "Stage                         category\n",
      "Stadium                         object\n",
      "City                            object\n",
      "Home Team Name                  object\n",
      "Home Team Goals                float64\n",
      "Away Team Goals                float64\n",
      "Away Team Name                  object\n",
      "Win conditions                  object\n",
      "Attendance                      object\n",
      "Half-time Home Goals           float64\n",
      "Half-time Away Goals           float64\n",
      "Referee                         object\n",
      "Assistant 1                     object\n",
      "Assistant 2                     object\n",
      "RoundID                        float64\n",
      "MatchID                        float64\n",
      "Home Team Initials            category\n",
      "Away Team Initials            category\n",
      "Goal Difference                float64\n",
      "Winning Team                    object\n",
      "Home Win                          bool\n",
      "Away Win                          bool\n",
      "Draw                              bool\n",
      "dtype: object\n",
      "   Year Datetime    Stage         Stadium         City Home Team Name  \\\n",
      "0  1970      NaT  Group 1         Pocitos  Montevideo          France   \n",
      "1  1970      NaT  Group 4  Parque Central  Montevideo             USA   \n",
      "2  1970      NaT  Group 2  Parque Central  Montevideo      Yugoslavia   \n",
      "3  1970      NaT  Group 3         Pocitos  Montevideo         Romania   \n",
      "4  1970      NaT  Group 1  Parque Central  Montevideo       Argentina   \n",
      "\n",
      "   Home Team Goals  Away Team Goals Away Team Name Win conditions  ...  \\\n",
      "0              4.0              1.0         Mexico                 ...   \n",
      "1              3.0              0.0        Belgium                 ...   \n",
      "2              2.0              1.0         Brazil                 ...   \n",
      "3              3.0              1.0           Peru                 ...   \n",
      "4              1.0              0.0         France                 ...   \n",
      "\n",
      "                  Assistant 2  RoundID  MatchID Home Team Initials  \\\n",
      "0         REGO Gilberto (BRA)    201.0   1096.0                FRA   \n",
      "1       WARNKEN Alberto (CHI)    201.0   1090.0                USA   \n",
      "2         BALWAY Thomas (FRA)    201.0   1093.0                YUG   \n",
      "3    MATEUCCI Francisco (URU)    201.0   1098.0                ROU   \n",
      "4  RADULESCU Constantin (ROU)    201.0   1085.0                ARG   \n",
      "\n",
      "  Away Team Initials Goal Difference  Winning Team  Home Win Away Win   Draw  \n",
      "0                MEX             3.0        France      True    False  False  \n",
      "1                BEL             3.0           USA      True    False  False  \n",
      "2                BRA             1.0    Yugoslavia      True    False  False  \n",
      "3                PER             2.0       Romania      True    False  False  \n",
      "4                FRA             1.0     Argentina      True    False  False  \n",
      "\n",
      "[5 rows x 25 columns]\n",
      "\n",
      "Cups DataFrame columns and types:\n",
      "Year               int64\n",
      "Country           object\n",
      "Winner            object\n",
      "Runners-Up        object\n",
      "Third             object\n",
      "Fourth            object\n",
      "GoalsScored        int64\n",
      "QualifiedTeams     int64\n",
      "MatchesPlayed      int64\n",
      "Attendance        object\n",
      "dtype: object\n",
      "   Year      Country      Winner      Runners-Up    Third      Fourth  \\\n",
      "0  1930      Uruguay     Uruguay       Argentina      USA  Yugoslavia   \n",
      "1  1934        Italy       Italy  Czechoslovakia  Germany     Austria   \n",
      "2  1938       France       Italy         Hungary   Brazil      Sweden   \n",
      "3  1950       Brazil     Uruguay          Brazil   Sweden       Spain   \n",
      "4  1954  Switzerland  Germany FR         Hungary  Austria     Uruguay   \n",
      "\n",
      "   GoalsScored  QualifiedTeams  MatchesPlayed Attendance  \n",
      "0           70              13             18    590.549  \n",
      "1           70              16             17    363.000  \n",
      "2           84              15             18    375.700  \n",
      "3           88              13             22  1.045.246  \n",
      "4          140              16             26    768.607  \n",
      "\n",
      "Unique values in matches_df 'Year':\n",
      "[1970]\n",
      "\n",
      "Unique values in cups_df 'Year':\n",
      "[1930 1934 1938 1950 1954 1958 1962 1966 1970 1974 1978 1982 1986 1990\n",
      " 1994 1998 2002 2006 2010 2014]\n"
     ]
    }
   ],
   "source": [
    "print(\"Matches DataFrame columns:\", matches_df.columns)\n",
    "print(\"Cups DataFrame columns:\", cups_df.columns)\n",
    "\n",
    "# Check data types and first few rows\n",
    "print(\"Matches DataFrame columns and types:\")\n",
    "print(matches_df.dtypes)\n",
    "print(matches_df.head())\n",
    "\n",
    "print(\"\\nCups DataFrame columns and types:\")\n",
    "print(cups_df.dtypes)\n",
    "print(cups_df.head())\n",
    "\n",
    "# Check unique values in 'Year' columns\n",
    "print(\"\\nUnique values in matches_df 'Year':\")\n",
    "print(matches_df['Year'].unique())\n",
    "\n",
    "print(\"\\nUnique values in cups_df 'Year':\")\n",
    "print(cups_df['Year'].unique())\n"
   ]
  },
  {
   "cell_type": "code",
   "execution_count": 83,
   "id": "2e69cec0",
   "metadata": {},
   "outputs": [
    {
     "name": "stdout",
     "output_type": "stream",
     "text": [
      "Matches DataFrame 'Year' type: int32\n",
      "Cups DataFrame 'Year' type: int64\n",
      "\n",
      "Data types after conversion:\n",
      "Year                             int32\n",
      "Datetime                datetime64[ns]\n",
      "Stage                         category\n",
      "Stadium                         object\n",
      "City                            object\n",
      "Home Team Name                  object\n",
      "Home Team Goals                float64\n",
      "Away Team Goals                float64\n",
      "Away Team Name                  object\n",
      "Win conditions                  object\n",
      "Attendance                      object\n",
      "Half-time Home Goals           float64\n",
      "Half-time Away Goals           float64\n",
      "Referee                         object\n",
      "Assistant 1                     object\n",
      "Assistant 2                     object\n",
      "RoundID                        float64\n",
      "MatchID                        float64\n",
      "Home Team Initials            category\n",
      "Away Team Initials            category\n",
      "Goal Difference                float64\n",
      "Winning Team                    object\n",
      "Home Win                          bool\n",
      "Away Win                          bool\n",
      "Draw                              bool\n",
      "dtype: object\n",
      "Year               int64\n",
      "Country           object\n",
      "Winner            object\n",
      "Runners-Up        object\n",
      "Third             object\n",
      "Fourth            object\n",
      "GoalsScored        int64\n",
      "QualifiedTeams     int64\n",
      "MatchesPlayed      int64\n",
      "Attendance        object\n",
      "dtype: object\n"
     ]
    }
   ],
   "source": [
    "print(\"Matches DataFrame 'Year' type:\", matches_df['Year'].dtype)\n",
    "print(\"Cups DataFrame 'Year' type:\", cups_df['Year'].dtype)\n",
    "\n",
    "\n",
    "# Convert 'Year' in matches_df to integer if it's datetime\n",
    "if matches_df['Year'].dtype == 'datetime64[ns]':\n",
    "    matches_df['Year'] = matches_df['Year'].dt.year\n",
    "elif matches_df['Year'].dtype != 'int64':\n",
    "    matches_df['Year'] = pd.to_numeric(matches_df['Year'], errors='coerce').fillna(0).astype(int)\n",
    "\n",
    "# Convert 'Year' in cups_df to integer if it's datetime\n",
    "if cups_df['Year'].dtype == 'datetime64[ns]':\n",
    "    cups_df['Year'] = cups_df['Year'].dt.year\n",
    "elif cups_df['Year'].dtype != 'int64':\n",
    "    cups_df['Year'] = pd.to_numeric(cups_df['Year'], errors='coerce').fillna(0).astype(int)\n",
    "\n",
    "# Verify conversion\n",
    "print(\"\\nData types after conversion:\")\n",
    "print(matches_df.dtypes)\n",
    "print(cups_df.dtypes)"
   ]
  },
  {
   "cell_type": "markdown",
   "id": "a3750c12",
   "metadata": {},
   "source": [
    "# Merging data.......(together)"
   ]
  },
  {
   "cell_type": "code",
   "execution_count": 88,
   "id": "fc1bd666",
   "metadata": {},
   "outputs": [
    {
     "name": "stdout",
     "output_type": "stream",
     "text": [
      "\n",
      "Merged Matches with Cups:\n",
      "   Year Datetime    Stage         Stadium         City Home Team Name  \\\n",
      "0  1970      NaT  Group 1         Pocitos  Montevideo          France   \n",
      "1  1970      NaT  Group 4  Parque Central  Montevideo             USA   \n",
      "2  1970      NaT  Group 2  Parque Central  Montevideo      Yugoslavia   \n",
      "3  1970      NaT  Group 3         Pocitos  Montevideo         Romania   \n",
      "4  1970      NaT  Group 1  Parque Central  Montevideo       Argentina   \n",
      "\n",
      "   Home Team Goals  Away Team Goals Away Team Name Win conditions  ...   Draw  \\\n",
      "0              4.0              1.0         Mexico                 ...  False   \n",
      "1              3.0              0.0        Belgium                 ...  False   \n",
      "2              2.0              1.0         Brazil                 ...  False   \n",
      "3              3.0              1.0           Peru                 ...  False   \n",
      "4              1.0              0.0         France                 ...  False   \n",
      "\n",
      "   Country  Winner Runners-Up       Third   Fourth  GoalsScored  \\\n",
      "0   Mexico  Brazil      Italy  Germany FR  Uruguay           95   \n",
      "1   Mexico  Brazil      Italy  Germany FR  Uruguay           95   \n",
      "2   Mexico  Brazil      Italy  Germany FR  Uruguay           95   \n",
      "3   Mexico  Brazil      Italy  Germany FR  Uruguay           95   \n",
      "4   Mexico  Brazil      Italy  Germany FR  Uruguay           95   \n",
      "\n",
      "   QualifiedTeams MatchesPlayed Attendance_y  \n",
      "0              16            32    1.603.975  \n",
      "1              16            32    1.603.975  \n",
      "2              16            32    1.603.975  \n",
      "3              16            32    1.603.975  \n",
      "4              16            32    1.603.975  \n",
      "\n",
      "[5 rows x 34 columns]\n"
     ]
    }
   ],
   "source": [
    "# Perform the merge\n",
    "matches_cups_df = matches_df.merge(cups_df, left_on='Year', right_on='Year', how='left')\n",
    "\n",
    "# Verify the merged DataFrame\n",
    "print(\"\\nMerged Matches with Cups:\")\n",
    "print(matches_cups_df.head())\n"
   ]
  },
  {
   "cell_type": "markdown",
   "id": "2b7d2ccb",
   "metadata": {},
   "source": [
    "# Performing Analysis\n",
    "\n",
    "#Match Statistics"
   ]
  },
  {
   "cell_type": "code",
   "execution_count": 21,
   "id": "4f9b1955",
   "metadata": {},
   "outputs": [
    {
     "name": "stdout",
     "output_type": "stream",
     "text": [
      "Index(['Year', 'Datetime', 'Stage', 'Stadium', 'City', 'Home Team Name',\n",
      "       'Home Team Goals', 'Away Team Goals', 'Away Team Name',\n",
      "       'Win conditions', 'Attendance', 'Half-time Home Goals',\n",
      "       'Half-time Away Goals', 'Referee', 'Assistant 1', 'Assistant 2',\n",
      "       'RoundID', 'MatchID', 'Home Team Initials', 'Away Team Initials'],\n",
      "      dtype='object')\n",
      "Number of matches per World Cup:\n",
      "Year\n",
      "1970-01-01 00:00:00.000001930    18\n",
      "1970-01-01 00:00:00.000001934    17\n",
      "1970-01-01 00:00:00.000001938    18\n",
      "1970-01-01 00:00:00.000001950    22\n",
      "1970-01-01 00:00:00.000001954    26\n",
      "1970-01-01 00:00:00.000001958    35\n",
      "1970-01-01 00:00:00.000001962    32\n",
      "1970-01-01 00:00:00.000001966    32\n",
      "1970-01-01 00:00:00.000001970    32\n",
      "1970-01-01 00:00:00.000001974    38\n",
      "1970-01-01 00:00:00.000001978    38\n",
      "1970-01-01 00:00:00.000001982    52\n",
      "1970-01-01 00:00:00.000001986    52\n",
      "1970-01-01 00:00:00.000001990    52\n",
      "1970-01-01 00:00:00.000001994    52\n",
      "1970-01-01 00:00:00.000001998    64\n",
      "1970-01-01 00:00:00.000002002    64\n",
      "1970-01-01 00:00:00.000002006    64\n",
      "1970-01-01 00:00:00.000002010    64\n",
      "1970-01-01 00:00:00.000002014    80\n",
      "Name: MatchID, dtype: int64\n",
      "\n",
      "Total goals scored in each World Cup:\n",
      "Year\n",
      "1970-01-01 00:00:00.000001930     70.0\n",
      "1970-01-01 00:00:00.000001934     70.0\n",
      "1970-01-01 00:00:00.000001938     84.0\n",
      "1970-01-01 00:00:00.000001950     88.0\n",
      "1970-01-01 00:00:00.000001954    140.0\n",
      "1970-01-01 00:00:00.000001958    126.0\n",
      "1970-01-01 00:00:00.000001962     89.0\n",
      "1970-01-01 00:00:00.000001966     89.0\n",
      "1970-01-01 00:00:00.000001970     95.0\n",
      "1970-01-01 00:00:00.000001974     97.0\n",
      "1970-01-01 00:00:00.000001978    102.0\n",
      "1970-01-01 00:00:00.000001982    146.0\n",
      "1970-01-01 00:00:00.000001986    132.0\n",
      "1970-01-01 00:00:00.000001990    115.0\n",
      "1970-01-01 00:00:00.000001994    141.0\n",
      "1970-01-01 00:00:00.000001998    171.0\n",
      "1970-01-01 00:00:00.000002002    161.0\n",
      "1970-01-01 00:00:00.000002006    147.0\n",
      "1970-01-01 00:00:00.000002010    145.0\n",
      "1970-01-01 00:00:00.000002014    206.0\n",
      "dtype: float64\n"
     ]
    }
   ],
   "source": [
    "# Ensure the column names are correct\n",
    "print(matches_df.columns)\n",
    "\n",
    "# Number of matches per World Cup\n",
    "matches_per_cup = matches_df.groupby('Year')['MatchID'].count()\n",
    "print(\"Number of matches per World Cup:\")\n",
    "print(matches_per_cup)\n",
    "\n",
    "# Total goals scored in each World Cup\n",
    "total_goals_home = matches_df.groupby('Year')['Home Team Goals'].sum()\n",
    "total_goals_away = matches_df.groupby('Year')['Away Team Goals'].sum()\n",
    "total_goals_per_cup = total_goals_home + total_goals_away\n",
    "\n",
    "print(\"\\nTotal goals scored in each World Cup:\")\n",
    "print(total_goals_per_cup)\n"
   ]
  },
  {
   "cell_type": "markdown",
   "id": "60c9398f",
   "metadata": {},
   "source": [
    "#  Player Statistics"
   ]
  },
  {
   "cell_type": "code",
   "execution_count": 32,
   "id": "3477c907",
   "metadata": {},
   "outputs": [
    {
     "name": "stdout",
     "output_type": "stream",
     "text": [
      "Columns in players_df:\n",
      "Index(['RoundID', 'MatchID', 'Team Initials', 'Coach Name', 'Line-up',\n",
      "       'Shirt Number', 'Player Name', 'Position', 'Event'],\n",
      "      dtype='object')\n",
      "\n",
      "Number of players per team:\n",
      "Team Initials\n",
      "ALG     316\n",
      "ANG      69\n",
      "ARG    1807\n",
      "AUS     296\n",
      "AUT     638\n",
      "       ... \n",
      "URU    1159\n",
      "USA     729\n",
      "WAL     110\n",
      "YUG     799\n",
      "ZAI      66\n",
      "Name: Player Name, Length: 82, dtype: int64\n",
      "\n",
      "Events per player:\n",
      "Player Name\n",
      "?URI?I?        0\n",
      "A BAUTISTA     1\n",
      "A COLE         3\n",
      "A GUARDADO     3\n",
      "A MEDINA       0\n",
      "              ..\n",
      "�IGI?          2\n",
      "�STENSTAD      1\n",
      "�ULER          1\n",
      "�UNJI?         0\n",
      "�ZIL          13\n",
      "Name: Event, Length: 7663, dtype: int64\n"
     ]
    }
   ],
   "source": [
    "# Print column names to verify\n",
    "print(\"Columns in players_df:\")\n",
    "print(players_df.columns)\n",
    "\n",
    "# Number of players per team (based on 'Team Initials')\n",
    "players_per_team = players_df.groupby('Team Initials')['Player Name'].count()\n",
    "print(\"\\nNumber of players per team:\")\n",
    "print(players_per_team)\n",
    "\n",
    "# Count occurrences of each event per player\n",
    "events_per_player = players_df.groupby('Player Name')['Event'].count()\n",
    "print(\"\\nEvents per player:\")\n",
    "print(events_per_player)"
   ]
  },
  {
   "cell_type": "markdown",
   "id": "525746b9",
   "metadata": {},
   "source": [
    "# World cup Statistics"
   ]
  },
  {
   "cell_type": "code",
   "execution_count": 24,
   "id": "cf7b15ce",
   "metadata": {},
   "outputs": [
    {
     "name": "stdout",
     "output_type": "stream",
     "text": [
      "Index(['Year', 'Country', 'Winner', 'Runners-Up', 'Third', 'Fourth',\n",
      "       'GoalsScored', 'QualifiedTeams', 'MatchesPlayed', 'Attendance'],\n",
      "      dtype='object')\n",
      "Number of tournaments hosted by each country:\n",
      "Country\n",
      "Italy           2\n",
      "France          2\n",
      "Brazil          2\n",
      "Mexico          2\n",
      "Germany         2\n",
      "Uruguay         1\n",
      "Switzerland     1\n",
      "Sweden          1\n",
      "Chile           1\n",
      "England         1\n",
      "Argentina       1\n",
      "Spain           1\n",
      "USA             1\n",
      "Korea/Japan     1\n",
      "South Africa    1\n",
      "Name: count, dtype: int64\n",
      "\n",
      "List of winners and years:\n",
      "    Year      Winner\n",
      "0   1930     Uruguay\n",
      "1   1934       Italy\n",
      "2   1938       Italy\n",
      "3   1950     Uruguay\n",
      "4   1954  Germany FR\n",
      "5   1958      Brazil\n",
      "6   1962      Brazil\n",
      "7   1966     England\n",
      "8   1970      Brazil\n",
      "9   1974  Germany FR\n",
      "10  1978   Argentina\n",
      "11  1982       Italy\n",
      "12  1986   Argentina\n",
      "13  1990  Germany FR\n",
      "14  1994      Brazil\n",
      "15  1998      France\n",
      "16  2002      Brazil\n",
      "17  2006       Italy\n",
      "18  2010       Spain\n",
      "19  2014     Germany\n"
     ]
    }
   ],
   "source": [
    "# Ensure the 'Host Country' column exists in cups_df\n",
    "print(cups_df.columns)\n",
    "\n",
    "# Number of tournaments hosted by each country\n",
    "hosts_per_country = cups_df['Country'].value_counts()\n",
    "print(\"Number of tournaments hosted by each country:\")\n",
    "print(hosts_per_country)\n",
    "\n",
    "# List of winners and years\n",
    "winners_per_year = cups_df[['Year', 'Winner']]\n",
    "print(\"\\nList of winners and years:\")\n",
    "print(winners_per_year)"
   ]
  },
  {
   "cell_type": "markdown",
   "id": "570d3804",
   "metadata": {},
   "source": [
    "#  Visualizing the Data"
   ]
  },
  {
   "cell_type": "code",
   "execution_count": 39,
   "id": "0fe4be97",
   "metadata": {},
   "outputs": [
    {
     "data": {
      "image/png": "[encoded data removed]",
      "text/plain": [
       "<Figure size 640x480 with 1 Axes>"
      ]
     },
     "metadata": {},
     "output_type": "display_data"
    },
    {
     "data": {
      "image/png": "[encoded data removed]",
      "text/plain": [
       "<Figure size 640x480 with 1 Axes>"
      ]
     },
     "metadata": {},
     "output_type": "display_data"
    },
    {
     "data": {
      "image/png": "[encoded data removed]",
      "text/plain": [
       "<Figure size 640x480 with 1 Axes>"
      ]
     },
     "metadata": {},
     "output_type": "display_data"
    }
   ],
   "source": [
    "import matplotlib.pyplot as plt\n",
    "\n",
    "\n",
    "# Plot number of matches per World Cup\n",
    "matches_per_cup.plot(kind='bar', title='Number of Matches per World Cup')\n",
    "plt.xlabel('Year')\n",
    "plt.ylabel('Number of Matches')\n",
    "plt.xticks(rotation=45)\n",
    "plt.show()\n",
    "\n",
    "# Plot total goals per World Cup\n",
    "total_goals_per_cup.plot(kind='bar', title='Total Goals per World Cup')\n",
    "plt.xlabel('Year')\n",
    "plt.ylabel('Total Goals')\n",
    "plt.xticks(rotation=45)\n",
    "plt.show()\n",
    "\n",
    " \n",
    "\n",
    "# Creating a new column for goals if 'Event' column includes 'Goal'\n",
    "players_df['Goals'] = players_df['Event'].apply(lambda x: 1 if x == 'Goal' else 0)\n",
    "\n",
    "# Aggregating the goals by player\n",
    "goals_by_players = players_df.groupby('Player Name')['Goals'].sum()\n",
    "\n",
    "# Sorting and get top 10 scorers\n",
    "top_scorers = goals_by_players.sort_values(ascending=False).head(10)\n",
    "\n",
    "# Plot top scorers\n",
    "top_scorers.plot(kind='bar', title='Top Scorers')\n",
    "plt.xlabel('Player')\n",
    "plt.ylabel('Goals')\n",
    "plt.xticks(rotation=45)\n",
    "plt.show()\n",
    "\n",
    "\n",
    "\n",
    "\n"
   ]
  },
  {
   "cell_type": "markdown",
   "id": "8dc64f26",
   "metadata": {},
   "source": [
    "# Data Cleaning and Preparation"
   ]
  },
  {
   "cell_type": "code",
   "execution_count": 53,
   "id": "f35c5769",
   "metadata": {},
   "outputs": [
    {
     "name": "stdout",
     "output_type": "stream",
     "text": [
      "Matches DataFrame columns:\n",
      "Index(['Year', 'Datetime', 'Stage', 'Stadium', 'City', 'Home Team Name',\n",
      "       'Home Team Goals', 'Away Team Goals', 'Away Team Name',\n",
      "       'Win conditions', 'Attendance', 'Half-time Home Goals',\n",
      "       'Half-time Away Goals', 'Referee', 'Assistant 1', 'Assistant 2',\n",
      "       'RoundID', 'MatchID', 'Home Team Initials', 'Away Team Initials'],\n",
      "      dtype='object')\n",
      "\n",
      "Players DataFrame columns:\n",
      "Index(['RoundID', 'MatchID', 'Team Initials', 'Coach Name', 'Line-up',\n",
      "       'Shirt Number', 'Player Name', 'Position', 'Event', 'Goals'],\n",
      "      dtype='object')\n",
      "Data cleaning and conversion completed.\n"
     ]
    }
   ],
   "source": [
    "# Print column names to verify\n",
    "print(\"Matches DataFrame columns:\")\n",
    "print(matches_df.columns)\n",
    "print(\"\\nPlayers DataFrame columns:\")\n",
    "print(players_df.columns)\n",
    "\n",
    "# Convert 'Datetime' column to datetime format\n",
    "if 'Datetime' in matches_df.columns:\n",
    "    matches_df['Datetime'] = pd.to_datetime(matches_df['Datetime'], errors='coerce')\n",
    "\n",
    "# Fill missing values\n",
    "matches_df.fillna({\n",
    "    'Home Team Goals': 0,\n",
    "    'Away Team Goals': 0,\n",
    "    'Attendance': 'Unknown'\n",
    "}, inplace=True)\n",
    "\n",
    "players_df.fillna({\n",
    "    'Goals': 0,\n",
    "    'Coach Name': 'Unknown'\n",
    "}, inplace=True)\n",
    "\n",
    "# Convert categorical columns\n",
    "if 'Stage' in matches_df.columns:\n",
    "    matches_df['Stage'] = matches_df['Stage'].astype('category')\n",
    "\n",
    "if 'Team Initials' in players_df.columns:\n",
    "    players_df['Team Initials'] = players_df['Team Initials'].astype('category')\n",
    "\n",
    "# Convert 'Goals' to integer\n",
    "if 'Goals' in players_df.columns:\n",
    "    players_df['Goals'] = players_df['Goals'].astype(int)\n",
    "\n",
    "# Remove duplicate rows\n",
    "matches_df.drop_duplicates(inplace=True)\n",
    "players_df.drop_duplicates(inplace=True)\n",
    "\n",
    "# Print completion message\n",
    "print(\"Data cleaning and conversion completed.\")\n",
    "\n"
   ]
  },
  {
   "cell_type": "markdown",
   "id": "1ce1520f",
   "metadata": {},
   "source": [
    "# Feature Engineering"
   ]
  },
  {
   "cell_type": "code",
   "execution_count": 93,
   "id": "fe56efce",
   "metadata": {},
   "outputs": [
    {
     "name": "stdout",
     "output_type": "stream",
     "text": [
      "   Goal Difference Winning Team\n",
      "0              3.0       France\n",
      "1              3.0          USA\n",
      "2              1.0   Yugoslavia\n",
      "3              2.0      Romania\n",
      "4              1.0    Argentina\n"
     ]
    }
   ],
   "source": [
    "import numpy as np\n",
    "# Calculate goal difference\n",
    "matches_df['Goal Difference'] = matches_df['Home Team Goals'] - matches_df['Away Team Goals']\n",
    "\n",
    "# Determine the winning team\n",
    "matches_df['Winning Team'] = np.where(matches_df['Goal Difference'] > 0, matches_df['Home Team Name'],\n",
    "                                      np.where(matches_df['Goal Difference'] < 0, matches_df['Away Team Name'], 'Draw'))\n",
    "\n",
    "# Display the updated DataFrame to verify the new columns\n",
    "print(matches_df[['Goal Difference', 'Winning Team']].head())"
   ]
  },
  {
   "cell_type": "markdown",
   "id": "a12fdc85",
   "metadata": {},
   "source": [
    "# Advanced Aggregations"
   ]
  },
  {
   "cell_type": "code",
   "execution_count": 56,
   "id": "c6d14a0b",
   "metadata": {},
   "outputs": [
    {
     "name": "stdout",
     "output_type": "stream",
     "text": [
      "Brazil                     221.0\n",
      "Argentina                  131.0\n",
      "Germany FR                 131.0\n",
      "Italy                      128.0\n",
      "France                     106.0\n",
      "                           ...  \n",
      "Dutch East Indies            0.0\n",
      "China PR                     0.0\n",
      "Canada                       0.0\n",
      "Zaire                        0.0\n",
      "rn\">Trinidad and Tobago      0.0\n",
      "Length: 83, dtype: float64\n",
      "Algeria                       23.076923\n",
      "Angola                         0.000000\n",
      "Argentina                     54.545455\n",
      "Australia                      0.000000\n",
      "Austria                       41.379310\n",
      "                                ...    \n",
      "rn\">Bosnia and Herzegovina     0.000000\n",
      "rn\">Republic of Ireland        0.000000\n",
      "rn\">Serbia and Montenegro      0.000000\n",
      "rn\">Trinidad and Tobago        0.000000\n",
      "rn\">United Arab Emirates       0.000000\n",
      "Length: 83, dtype: float64\n"
     ]
    }
   ],
   "source": [
    "# Total goals scored by each team\n",
    "home_goals = matches_df.groupby('Home Team Name')['Home Team Goals'].sum()\n",
    "away_goals = matches_df.groupby('Away Team Name')['Away Team Goals'].sum()\n",
    "total_goals = home_goals.add(away_goals, fill_value=0).sort_values(ascending=False)\n",
    "\n",
    "print(total_goals)\n",
    "\n",
    "# Winning percentage per team\n",
    "total_matches = matches_df.groupby('Home Team Name').size() + matches_df.groupby('Away Team Name').size()\n",
    "wins = matches_df[matches_df['Home Team Goals'] > matches_df['Away Team Goals']].groupby('Home Team Name').size()\n",
    "wins += matches_df[matches_df['Away Team Goals'] > matches_df['Home Team Goals']].groupby('Away Team Name').size()\n",
    "winning_percentage = (wins / total_matches).fillna(0) * 100\n",
    "\n",
    "print(winning_percentage)\n"
   ]
  },
  {
   "cell_type": "markdown",
   "id": "72873242",
   "metadata": {},
   "source": [
    "# Ploting  the Number of World Cup Wins by Team\""
   ]
  },
  {
   "cell_type": "code",
   "execution_count": 59,
   "id": "e8a21450",
   "metadata": {},
   "outputs": [
    {
     "data": {
      "image/png": "[encoded data removed]",
      "text/plain": [
       "<Figure size 1200x800 with 1 Axes>"
      ]
     },
     "metadata": {},
     "output_type": "display_data"
    }
   ],
   "source": [
    "# Plot the number of wins per team\n",
    "tournament_winners = cups_df['Winner'].value_counts()\n",
    "\n",
    "plt.figure(figsize=(12, 8))\n",
    "sns.barplot(x=tournament_winners.values, y=tournament_winners.index, palette='magma')\n",
    "plt.title('Number of World Cup Wins by Team')\n",
    "plt.xlabel('Number of Wins')\n",
    "plt.ylabel('Team')\n",
    "plt.show()"
   ]
  },
  {
   "cell_type": "markdown",
   "id": "a99106bd",
   "metadata": {},
   "source": [
    "# Analyzing and Ploting the Distribution of Match Outcomes "
   ]
  },
  {
   "cell_type": "code",
   "execution_count": 61,
   "id": "f86b7e7f",
   "metadata": {},
   "outputs": [
    {
     "data": {
      "image/png": "[encoded data removed]",
      "text/plain": [
       "<Figure size 1000x600 with 1 Axes>"
      ]
     },
     "metadata": {},
     "output_type": "display_data"
    }
   ],
   "source": [
    "# Create new columns for match outcomes\n",
    "matches_df['Home Win'] = matches_df['Home Team Goals'] > matches_df['Away Team Goals']\n",
    "matches_df['Away Win'] = matches_df['Away Team Goals'] > matches_df['Home Team Goals']\n",
    "matches_df['Draw'] = matches_df['Home Team Goals'] == matches_df['Away Team Goals']\n",
    "\n",
    "# Melt the DataFrame to get match outcomes into a single column\n",
    "melted_df = matches_df.melt(value_vars=['Home Win', 'Away Win', 'Draw'], var_name='Outcome Type', value_name='Outcome')\n",
    "\n",
    "# Filter to keep only True outcomes\n",
    "outcome_distribution = melted_df[melted_df['Outcome']]\n",
    "\n",
    "# Plot match outcomes distribution\n",
    "plt.figure(figsize=(10, 6))\n",
    "sns.countplot(x='Outcome Type', data=outcome_distribution, palette='Set2')\n",
    "plt.title('Match Outcomes Distribution')\n",
    "plt.xlabel('Outcome')\n",
    "plt.ylabel('Number of Matches')\n",
    "plt.xticks([0, 1, 2], ['Home Win', 'Away Win', 'Draw'])\n",
    "plt.show()\n"
   ]
  },
  {
   "cell_type": "markdown",
   "id": "0d2dd73c",
   "metadata": {},
   "source": [
    "# saving results"
   ]
  },
  {
   "cell_type": "code",
   "execution_count": 91,
   "id": "ac0aa5a2",
   "metadata": {},
   "outputs": [
    {
     "name": "stdout",
     "output_type": "stream",
     "text": [
      "DataFrame saved to 'matches_per_cup.csv'\n"
     ]
    }
   ],
   "source": [
    "# Calculate the number of matches per World Cup\n",
    "matches_per_cup = matches_df.groupby('Year')['MatchID'].count().reset_index()\n",
    "\n",
    "# Rename columns for clarity\n",
    "matches_per_cup.columns = ['Year', 'Number of Matches']\n",
    "\n",
    "# Save the DataFrame to a CSV file\n",
    "matches_per_cup.to_csv('matches_per_cup.csv', index=False)\n",
    "\n",
    "print(\"DataFrame saved to 'matches_per_cup.csv'\")"
   ]
  }
 ],
 "metadata": {
  "kernelspec": {
   "display_name": "Python 3 (ipykernel)",
   "language": "python",
   "name": "python3"
  },
  "language_info": {
   "codemirror_mode": {
    "name": "ipython",
    "version": 3
   },
   "file_extension": ".py",
   "mimetype": "text/x-python",
   "name": "python",
   "nbconvert_exporter": "python",
   "pygments_lexer": "ipython3",
   "version": "3.11.5"
  }
 },
 "nbformat": 4,
 "nbformat_minor": 5
}
